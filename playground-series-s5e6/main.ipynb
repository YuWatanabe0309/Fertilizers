{
 "cells": [
  {
   "cell_type": "code",
   "execution_count": 1,
   "id": "a05c5547",
   "metadata": {},
   "outputs": [
    {
     "name": "stdout",
     "output_type": "stream",
     "text": [
      "(750000, 10)\n",
      "Index(['id', 'Temparature', 'Humidity', 'Moisture', 'Soil Type', 'Crop Type',\n",
      "       'Nitrogen', 'Potassium', 'Phosphorous', 'Fertilizer Name'],\n",
      "      dtype='object')\n",
      "   id  Temparature  Humidity  Moisture Soil Type  Crop Type  Nitrogen  \\\n",
      "0   0           37        70        36    Clayey  Sugarcane        36   \n",
      "1   1           27        69        65     Sandy    Millets        30   \n",
      "2   2           29        63        32     Sandy    Millets        24   \n",
      "3   3           35        62        54     Sandy     Barley        39   \n",
      "4   4           35        58        43       Red      Paddy        37   \n",
      "\n",
      "   Potassium  Phosphorous Fertilizer Name  \n",
      "0          4            5           28-28  \n",
      "1          6           18           28-28  \n",
      "2         12           16        17-17-17  \n",
      "3         12            4        10-26-26  \n",
      "4          2           16             DAP  \n"
     ]
    }
   ],
   "source": [
    "import pandas as pd\n",
    "import matplotlib.pyplot as plt\n",
    "import seaborn as sns\n",
    "\n",
    "# ファイル読み込み\n",
    "train = pd.read_csv(\"train.csv\")\n",
    "test = pd.read_csv(\"test.csv\")\n",
    "sample_submission = pd.read_csv(\"sample_submission.csv\")\n",
    "\n",
    "# データの概要を表示\n",
    "print(train.shape)\n",
    "print(train.columns)\n",
    "print(train.head())"
   ]
  },
  {
   "cell_type": "code",
   "execution_count": null,
   "id": "22a95a6a",
   "metadata": {},
   "outputs": [],
   "source": []
  }
 ],
 "metadata": {
  "kernelspec": {
   "display_name": "Python 3",
   "language": "python",
   "name": "python3"
  },
  "language_info": {
   "codemirror_mode": {
    "name": "ipython",
    "version": 3
   },
   "file_extension": ".py",
   "mimetype": "text/x-python",
   "name": "python",
   "nbconvert_exporter": "python",
   "pygments_lexer": "ipython3",
   "version": "3.12.3"
  }
 },
 "nbformat": 4,
 "nbformat_minor": 5
}
